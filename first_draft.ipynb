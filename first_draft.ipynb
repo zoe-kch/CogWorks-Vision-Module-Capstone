{
 "cells": [
  {
   "cell_type": "code",
   "execution_count": null,
   "id": "b89d76e6-4c67-4879-858b-e3bde64a4d97",
   "metadata": {},
   "outputs": [],
   "source": [
    "import matplotlib.pyplot as plt\n",
    "import matplotleb.cm as cm\n",
    "\n",
    "import mygrad as mg\n",
    "import numpy as np\n",
    "import pickle\n",
    "import mygrad as mg\n",
    "import networkx as nx\n",
    "\n",
    "# reading an image file in as a numpy array\n",
    "import skimage.io as io\n",
    "\n",
    "from mygrad.nnet.activations import relu\n",
    "from mygrad.nnet.initializers.he_normal import he_normal\n",
    "from mygrad.nnet import softmax\n",
    "from mygrad.nnet.losses import softmax_crossentropy\n",
    "\n",
    "from noggin import create_plot\n",
    "\n",
    "from mynn.layers.dense import dense\n",
    "from mynn.optimizers.sgd import SGD\n",
    "\n",
    "%matplotlib notebook"
   ]
  },
  {
   "cell_type": "code",
   "execution_count": null,
   "id": "2053c0f1-349b-46cb-8ee0-e7557b90e5e8",
   "metadata": {},
   "outputs": [],
   "source": [
    "from facenet_models import FacenetModel\n",
    "\n",
    "# this will download the pretrained weights for MTCNN and resnet\n",
    "# (if they haven't already been fetched)\n",
    "# which should take just a few seconds\n",
    "model = FacenetModel()"
   ]
  },
  {
   "cell_type": "code",
   "execution_count": null,
   "id": "e558a9c6-8d34-4a9a-8e82-e1f0562f5e6d",
   "metadata": {},
   "outputs": [],
   "source": [
    "# detect all faces in an image\n",
    "# returns a tuple of (boxes, probabilities, landmarks)\n",
    "# assumes ``pic`` is a numpy array of shape (R, C, 3) (RGB is the last dimension)\n",
    "#\n",
    "# If N faces are detected then arrays of N boxes, N probabilities, and N landmark-sets\n",
    "# are returned.\n",
    "boxes, probabilities, landmarks = model.detect(pic)"
   ]
  },
  {
   "cell_type": "code",
   "execution_count": null,
   "id": "4b53e082-b3e2-42fc-8666-4fb56cd26fbb",
   "metadata": {},
   "outputs": [],
   "source": [
    "# Crops the image once for each of the N bounding boxes\n",
    "# and produces a shape-(512,) descriptor for that face.\n",
    "#\n",
    "# If N bounding boxes were supplied, then a shape-(N, 512)\n",
    "# array is returned, corresponding to N descriptor vectors\n",
    "descriptors = model.compute_descriptors(pic, boxes)"
   ]
  },
  {
   "cell_type": "code",
   "execution_count": null,
   "id": "ccbbe0e6-d562-451f-83c4-86bbb353e246",
   "metadata": {},
   "outputs": [],
   "source": [
    "def cos_dist(a,b):\n",
    "    return 1 - np.dot(a,b) / (np.abs(a) @ np.abs(b))"
   ]
  },
  {
   "cell_type": "code",
   "execution_count": null,
   "id": "e594bf67-0c2a-4bb2-956c-8c25215fe1f0",
   "metadata": {},
   "outputs": [],
   "source": [
    "# shape-(Height, Width, Color)\n",
    "image = io.imread(str(path_to_image))\n",
    "if image.shape[-1] == 4:\n",
    "    # Image is RGBA, where A is alpha -> transparency\n",
    "    # Must make image RGB.\n",
    "    image = image[..., :-1]  # png -> RGB"
   ]
  },
  {
   "cell_type": "code",
   "execution_count": null,
   "id": "2474e6a2-290e-4c24-bbdd-09da812562e7",
   "metadata": {},
   "outputs": [],
   "source": [
    "class Profile:\n",
    "    def __init__ ():\n",
    "\n",
    "    def __call__():\n",
    "\n"
   ]
  },
  {
   "cell_type": "code",
   "execution_count": null,
   "id": "0d0e8941-0cf3-439a-b579-9f42331cef3c",
   "metadata": {},
   "outputs": [],
   "source": [
    "class Node:\n",
    "    def __init__ ():\n",
    "\n",
    "    def __call__ ():\n",
    "\n"
   ]
  },
  {
   "cell_type": "code",
   "execution_count": null,
   "id": "f479f342-852b-4449-a47d-d878431d5d2e",
   "metadata": {},
   "outputs": [],
   "source": [
    "def connected_components():"
   ]
  },
  {
   "cell_type": "code",
   "execution_count": null,
   "id": "43fd6a56-4608-4403-9812-d58777116407",
   "metadata": {},
   "outputs": [],
   "source": [
    "def propogate_label():"
   ]
  },
  {
   "cell_type": "code",
   "execution_count": null,
   "id": "d01305a4-a908-49eb-ac6b-fb3c263751d4",
   "metadata": {},
   "outputs": [],
   "source": [
    "def whispers():"
   ]
  },
  {
   "cell_type": "code",
   "execution_count": null,
   "id": "46755944-4527-47fc-9737-c9cd0c2f6f4b",
   "metadata": {},
   "outputs": [],
   "source": []
  }
 ],
 "metadata": {
  "kernelspec": {
   "display_name": "Python 3 (ipykernel)",
   "language": "python",
   "name": "python3"
  },
  "language_info": {
   "codemirror_mode": {
    "name": "ipython",
    "version": 3
   },
   "file_extension": ".py",
   "mimetype": "text/x-python",
   "name": "python",
   "nbconvert_exporter": "python",
   "pygments_lexer": "ipython3",
   "version": "3.8.19"
  }
 },
 "nbformat": 4,
 "nbformat_minor": 5
}
